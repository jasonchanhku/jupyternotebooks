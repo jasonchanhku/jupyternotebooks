{
 "cells": [
  {
   "cell_type": "markdown",
   "metadata": {
    "collapsed": true
   },
   "source": [
    "# Data Loading"
   ]
  },
  {
   "cell_type": "code",
   "execution_count": 1,
   "metadata": {
    "collapsed": false
   },
   "outputs": [
    {
     "data": {
      "text/html": [
       "<div>\n",
       "<table border=\"1\" class=\"dataframe\">\n",
       "  <thead>\n",
       "    <tr style=\"text-align: right;\">\n",
       "      <th></th>\n",
       "      <th>id</th>\n",
       "      <th>type</th>\n",
       "      <th>name</th>\n",
       "      <th>yearpublished</th>\n",
       "      <th>minplayers</th>\n",
       "      <th>maxplayers</th>\n",
       "      <th>playingtime</th>\n",
       "      <th>minplaytime</th>\n",
       "      <th>maxplaytime</th>\n",
       "      <th>minage</th>\n",
       "      <th>users_rated</th>\n",
       "      <th>average_rating</th>\n",
       "      <th>bayes_average_rating</th>\n",
       "      <th>total_owners</th>\n",
       "      <th>total_traders</th>\n",
       "      <th>total_wanters</th>\n",
       "      <th>total_wishers</th>\n",
       "      <th>total_comments</th>\n",
       "      <th>total_weights</th>\n",
       "      <th>average_weight</th>\n",
       "    </tr>\n",
       "  </thead>\n",
       "  <tbody>\n",
       "    <tr>\n",
       "      <th>0</th>\n",
       "      <td>12333</td>\n",
       "      <td>boardgame</td>\n",
       "      <td>Twilight Struggle</td>\n",
       "      <td>2005.0</td>\n",
       "      <td>2.0</td>\n",
       "      <td>2.0</td>\n",
       "      <td>180.0</td>\n",
       "      <td>180.0</td>\n",
       "      <td>180.0</td>\n",
       "      <td>13.0</td>\n",
       "      <td>20113</td>\n",
       "      <td>8.33774</td>\n",
       "      <td>8.22186</td>\n",
       "      <td>26647</td>\n",
       "      <td>372</td>\n",
       "      <td>1219</td>\n",
       "      <td>5865</td>\n",
       "      <td>5347</td>\n",
       "      <td>2562</td>\n",
       "      <td>3.4785</td>\n",
       "    </tr>\n",
       "    <tr>\n",
       "      <th>1</th>\n",
       "      <td>120677</td>\n",
       "      <td>boardgame</td>\n",
       "      <td>Terra Mystica</td>\n",
       "      <td>2012.0</td>\n",
       "      <td>2.0</td>\n",
       "      <td>5.0</td>\n",
       "      <td>150.0</td>\n",
       "      <td>60.0</td>\n",
       "      <td>150.0</td>\n",
       "      <td>12.0</td>\n",
       "      <td>14383</td>\n",
       "      <td>8.28798</td>\n",
       "      <td>8.14232</td>\n",
       "      <td>16519</td>\n",
       "      <td>132</td>\n",
       "      <td>1586</td>\n",
       "      <td>6277</td>\n",
       "      <td>2526</td>\n",
       "      <td>1423</td>\n",
       "      <td>3.8939</td>\n",
       "    </tr>\n",
       "    <tr>\n",
       "      <th>2</th>\n",
       "      <td>102794</td>\n",
       "      <td>boardgame</td>\n",
       "      <td>Caverna: The Cave Farmers</td>\n",
       "      <td>2013.0</td>\n",
       "      <td>1.0</td>\n",
       "      <td>7.0</td>\n",
       "      <td>210.0</td>\n",
       "      <td>30.0</td>\n",
       "      <td>210.0</td>\n",
       "      <td>12.0</td>\n",
       "      <td>9262</td>\n",
       "      <td>8.28994</td>\n",
       "      <td>8.06886</td>\n",
       "      <td>12230</td>\n",
       "      <td>99</td>\n",
       "      <td>1476</td>\n",
       "      <td>5600</td>\n",
       "      <td>1700</td>\n",
       "      <td>777</td>\n",
       "      <td>3.7761</td>\n",
       "    </tr>\n",
       "    <tr>\n",
       "      <th>3</th>\n",
       "      <td>25613</td>\n",
       "      <td>boardgame</td>\n",
       "      <td>Through the Ages: A Story of Civilization</td>\n",
       "      <td>2006.0</td>\n",
       "      <td>2.0</td>\n",
       "      <td>4.0</td>\n",
       "      <td>240.0</td>\n",
       "      <td>240.0</td>\n",
       "      <td>240.0</td>\n",
       "      <td>12.0</td>\n",
       "      <td>13294</td>\n",
       "      <td>8.20407</td>\n",
       "      <td>8.05804</td>\n",
       "      <td>14343</td>\n",
       "      <td>362</td>\n",
       "      <td>1084</td>\n",
       "      <td>5075</td>\n",
       "      <td>3378</td>\n",
       "      <td>1642</td>\n",
       "      <td>4.1590</td>\n",
       "    </tr>\n",
       "    <tr>\n",
       "      <th>4</th>\n",
       "      <td>3076</td>\n",
       "      <td>boardgame</td>\n",
       "      <td>Puerto Rico</td>\n",
       "      <td>2002.0</td>\n",
       "      <td>2.0</td>\n",
       "      <td>5.0</td>\n",
       "      <td>150.0</td>\n",
       "      <td>90.0</td>\n",
       "      <td>150.0</td>\n",
       "      <td>12.0</td>\n",
       "      <td>39883</td>\n",
       "      <td>8.14261</td>\n",
       "      <td>8.04524</td>\n",
       "      <td>44362</td>\n",
       "      <td>795</td>\n",
       "      <td>861</td>\n",
       "      <td>5414</td>\n",
       "      <td>9173</td>\n",
       "      <td>5213</td>\n",
       "      <td>3.2943</td>\n",
       "    </tr>\n",
       "  </tbody>\n",
       "</table>\n",
       "</div>"
      ],
      "text/plain": [
       "       id       type                                       name  \\\n",
       "0   12333  boardgame                          Twilight Struggle   \n",
       "1  120677  boardgame                              Terra Mystica   \n",
       "2  102794  boardgame                  Caverna: The Cave Farmers   \n",
       "3   25613  boardgame  Through the Ages: A Story of Civilization   \n",
       "4    3076  boardgame                                Puerto Rico   \n",
       "\n",
       "   yearpublished  minplayers  maxplayers  playingtime  minplaytime  \\\n",
       "0         2005.0         2.0         2.0        180.0        180.0   \n",
       "1         2012.0         2.0         5.0        150.0         60.0   \n",
       "2         2013.0         1.0         7.0        210.0         30.0   \n",
       "3         2006.0         2.0         4.0        240.0        240.0   \n",
       "4         2002.0         2.0         5.0        150.0         90.0   \n",
       "\n",
       "   maxplaytime  minage  users_rated  average_rating  bayes_average_rating  \\\n",
       "0        180.0    13.0        20113         8.33774               8.22186   \n",
       "1        150.0    12.0        14383         8.28798               8.14232   \n",
       "2        210.0    12.0         9262         8.28994               8.06886   \n",
       "3        240.0    12.0        13294         8.20407               8.05804   \n",
       "4        150.0    12.0        39883         8.14261               8.04524   \n",
       "\n",
       "   total_owners  total_traders  total_wanters  total_wishers  total_comments  \\\n",
       "0         26647            372           1219           5865            5347   \n",
       "1         16519            132           1586           6277            2526   \n",
       "2         12230             99           1476           5600            1700   \n",
       "3         14343            362           1084           5075            3378   \n",
       "4         44362            795            861           5414            9173   \n",
       "\n",
       "   total_weights  average_weight  \n",
       "0           2562          3.4785  \n",
       "1           1423          3.8939  \n",
       "2            777          3.7761  \n",
       "3           1642          4.1590  \n",
       "4           5213          3.2943  "
      ]
     },
     "execution_count": 1,
     "metadata": {},
     "output_type": "execute_result"
    }
   ],
   "source": [
    "import pandas as pd\n",
    "\n",
    "board_games = pd.read_csv(\"board_games.csv\")\n",
    "\n",
    "board_games.head(5)"
   ]
  },
  {
   "cell_type": "code",
   "execution_count": 7,
   "metadata": {
    "collapsed": false
   },
   "outputs": [],
   "source": [
    "#dropping rows with NAs and no ratings\n",
    "board_games = board_games.dropna(axis = 0)\n",
    "board_games = board_games[board_games[\"users_rated\"] > 0]"
   ]
  },
  {
   "cell_type": "markdown",
   "metadata": {},
   "source": [
    "# Picking an Error Metric"
   ]
  },
  {
   "cell_type": "markdown",
   "metadata": {},
   "source": [
    "## Histogram of Average Ratings"
   ]
  },
  {
   "cell_type": "code",
   "execution_count": 12,
   "metadata": {
    "collapsed": true
   },
   "outputs": [],
   "source": [
    "%matplotlib inline\n",
    "import matplotlib.pyplot as plt"
   ]
  },
  {
   "cell_type": "code",
   "execution_count": 13,
   "metadata": {
    "collapsed": false
   },
   "outputs": [
    {
     "data": {
      "image/png": "[encoded data removed]",
      "text/plain": [
       "<matplotlib.figure.Figure at 0x7f52dec54160>"
      ]
     },
     "metadata": {},
     "output_type": "display_data"
    }
   ],
   "source": [
    "plt.hist(board_games[\"average_rating\"])\n",
    "plt.show()"
   ]
  },
  {
   "cell_type": "code",
   "execution_count": 18,
   "metadata": {
    "collapsed": false
   },
   "outputs": [
    {
     "name": "stdout",
     "output_type": "stream",
     "text": [
      "1.57882993483\n",
      "6.01611284933\n"
     ]
    }
   ],
   "source": [
    "print(board_games[\"average_rating\"].std())\n",
    "print(board_games[\"average_rating\"].mean())"
   ]
  },
  {
   "cell_type": "markdown",
   "metadata": {},
   "source": [
    "## Box & Whisker Plot"
   ]
  },
  {
   "cell_type": "code",
   "execution_count": 15,
   "metadata": {
    "collapsed": false
   },
   "outputs": [
    {
     "data": {
      "image/png": "[encoded data removed]",
      "text/plain": [
       "<matplotlib.figure.Figure at 0x7f52dec77c50>"
      ]
     },
     "metadata": {},
     "output_type": "display_data"
    }
   ],
   "source": [
    "plt.boxplot(board_games[\"average_rating\"])\n",
    "plt.show()"
   ]
  },
  {
   "cell_type": "markdown",
   "metadata": {},
   "source": [
    "## Error Metric\n",
    "Makes sense here to use MSE. This is because the data is continuous, and follows a somewhat normal distribution. We'll be able to compare our error to the standard deviation to see how good the model is at predictions.\n",
    "\n",
    "**Also, we want to penalize larger errors. So MSE in this case"
   ]
  },
  {
   "cell_type": "markdown",
   "metadata": {},
   "source": [
    "# Plotting Clusters"
   ]
  },
  {
   "cell_type": "code",
   "execution_count": 30,
   "metadata": {
    "collapsed": false
   },
   "outputs": [
    {
     "data": {
      "text/html": [
       "<div>\n",
       "<table border=\"1\" class=\"dataframe\">\n",
       "  <thead>\n",
       "    <tr style=\"text-align: right;\">\n",
       "      <th></th>\n",
       "      <th>yearpublished</th>\n",
       "      <th>minplayers</th>\n",
       "      <th>maxplayers</th>\n",
       "      <th>playingtime</th>\n",
       "      <th>minplaytime</th>\n",
       "      <th>maxplaytime</th>\n",
       "      <th>minage</th>\n",
       "      <th>users_rated</th>\n",
       "      <th>average_rating</th>\n",
       "      <th>bayes_average_rating</th>\n",
       "      <th>total_owners</th>\n",
       "      <th>total_traders</th>\n",
       "      <th>total_wanters</th>\n",
       "      <th>total_wishers</th>\n",
       "      <th>total_comments</th>\n",
       "      <th>total_weights</th>\n",
       "      <th>average_weight</th>\n",
       "    </tr>\n",
       "  </thead>\n",
       "  <tbody>\n",
       "    <tr>\n",
       "      <th>0</th>\n",
       "      <td>2005.0</td>\n",
       "      <td>2.0</td>\n",
       "      <td>2.0</td>\n",
       "      <td>180.0</td>\n",
       "      <td>180.0</td>\n",
       "      <td>180.0</td>\n",
       "      <td>13.0</td>\n",
       "      <td>20113</td>\n",
       "      <td>8.33774</td>\n",
       "      <td>8.22186</td>\n",
       "      <td>26647</td>\n",
       "      <td>372</td>\n",
       "      <td>1219</td>\n",
       "      <td>5865</td>\n",
       "      <td>5347</td>\n",
       "      <td>2562</td>\n",
       "      <td>3.4785</td>\n",
       "    </tr>\n",
       "    <tr>\n",
       "      <th>1</th>\n",
       "      <td>2012.0</td>\n",
       "      <td>2.0</td>\n",
       "      <td>5.0</td>\n",
       "      <td>150.0</td>\n",
       "      <td>60.0</td>\n",
       "      <td>150.0</td>\n",
       "      <td>12.0</td>\n",
       "      <td>14383</td>\n",
       "      <td>8.28798</td>\n",
       "      <td>8.14232</td>\n",
       "      <td>16519</td>\n",
       "      <td>132</td>\n",
       "      <td>1586</td>\n",
       "      <td>6277</td>\n",
       "      <td>2526</td>\n",
       "      <td>1423</td>\n",
       "      <td>3.8939</td>\n",
       "    </tr>\n",
       "    <tr>\n",
       "      <th>2</th>\n",
       "      <td>2013.0</td>\n",
       "      <td>1.0</td>\n",
       "      <td>7.0</td>\n",
       "      <td>210.0</td>\n",
       "      <td>30.0</td>\n",
       "      <td>210.0</td>\n",
       "      <td>12.0</td>\n",
       "      <td>9262</td>\n",
       "      <td>8.28994</td>\n",
       "      <td>8.06886</td>\n",
       "      <td>12230</td>\n",
       "      <td>99</td>\n",
       "      <td>1476</td>\n",
       "      <td>5600</td>\n",
       "      <td>1700</td>\n",
       "      <td>777</td>\n",
       "      <td>3.7761</td>\n",
       "    </tr>\n",
       "    <tr>\n",
       "      <th>3</th>\n",
       "      <td>2006.0</td>\n",
       "      <td>2.0</td>\n",
       "      <td>4.0</td>\n",
       "      <td>240.0</td>\n",
       "      <td>240.0</td>\n",
       "      <td>240.0</td>\n",
       "      <td>12.0</td>\n",
       "      <td>13294</td>\n",
       "      <td>8.20407</td>\n",
       "      <td>8.05804</td>\n",
       "      <td>14343</td>\n",
       "      <td>362</td>\n",
       "      <td>1084</td>\n",
       "      <td>5075</td>\n",
       "      <td>3378</td>\n",
       "      <td>1642</td>\n",
       "      <td>4.1590</td>\n",
       "    </tr>\n",
       "    <tr>\n",
       "      <th>4</th>\n",
       "      <td>2002.0</td>\n",
       "      <td>2.0</td>\n",
       "      <td>5.0</td>\n",
       "      <td>150.0</td>\n",
       "      <td>90.0</td>\n",
       "      <td>150.0</td>\n",
       "      <td>12.0</td>\n",
       "      <td>39883</td>\n",
       "      <td>8.14261</td>\n",
       "      <td>8.04524</td>\n",
       "      <td>44362</td>\n",
       "      <td>795</td>\n",
       "      <td>861</td>\n",
       "      <td>5414</td>\n",
       "      <td>9173</td>\n",
       "      <td>5213</td>\n",
       "      <td>3.2943</td>\n",
       "    </tr>\n",
       "  </tbody>\n",
       "</table>\n",
       "</div>"
      ],
      "text/plain": [
       "   yearpublished  minplayers  maxplayers  playingtime  minplaytime  \\\n",
       "0         2005.0         2.0         2.0        180.0        180.0   \n",
       "1         2012.0         2.0         5.0        150.0         60.0   \n",
       "2         2013.0         1.0         7.0        210.0         30.0   \n",
       "3         2006.0         2.0         4.0        240.0        240.0   \n",
       "4         2002.0         2.0         5.0        150.0         90.0   \n",
       "\n",
       "   maxplaytime  minage  users_rated  average_rating  bayes_average_rating  \\\n",
       "0        180.0    13.0        20113         8.33774               8.22186   \n",
       "1        150.0    12.0        14383         8.28798               8.14232   \n",
       "2        210.0    12.0         9262         8.28994               8.06886   \n",
       "3        240.0    12.0        13294         8.20407               8.05804   \n",
       "4        150.0    12.0        39883         8.14261               8.04524   \n",
       "\n",
       "   total_owners  total_traders  total_wanters  total_wishers  total_comments  \\\n",
       "0         26647            372           1219           5865            5347   \n",
       "1         16519            132           1586           6277            2526   \n",
       "2         12230             99           1476           5600            1700   \n",
       "3         14343            362           1084           5075            3378   \n",
       "4         44362            795            861           5414            9173   \n",
       "\n",
       "   total_weights  average_weight  \n",
       "0           2562          3.4785  \n",
       "1           1423          3.8939  \n",
       "2            777          3.7761  \n",
       "3           1642          4.1590  \n",
       "4           5213          3.2943  "
      ]
     },
     "execution_count": 30,
     "metadata": {},
     "output_type": "execute_result"
    }
   ],
   "source": [
    "from sklearn.cluster import KMeans\n",
    "import numpy as np\n",
    "kmeans_model = KMeans(n_clusters = 5, random_state= 1) #instantiate kmeans\n",
    "numeric_columns = board_games.ix[:, 3:20] #remove non numeric columns\n",
    "numeric_columns.head(5)"
   ]
  },
  {
   "cell_type": "code",
   "execution_count": 31,
   "metadata": {
    "collapsed": false
   },
   "outputs": [
    {
     "data": {
      "text/plain": [
       "KMeans(copy_x=True, init='k-means++', max_iter=300, n_clusters=5, n_init=10,\n",
       "    n_jobs=1, precompute_distances='auto', random_state=1, tol=0.0001,\n",
       "    verbose=0)"
      ]
     },
     "execution_count": 31,
     "metadata": {},
     "output_type": "execute_result"
    }
   ],
   "source": [
    "kmeans_model.fit(numeric_columns)"
   ]
  },
  {
   "cell_type": "code",
   "execution_count": 32,
   "metadata": {
    "collapsed": false
   },
   "outputs": [
    {
     "name": "stdout",
     "output_type": "stream",
     "text": [
      "[1 1 1 1 2]\n"
     ]
    }
   ],
   "source": [
    "labels = kmeans_model.labels_\n",
    "print(labels[0:5])"
   ]
  },
  {
   "cell_type": "code",
   "execution_count": 37,
   "metadata": {
    "collapsed": false
   },
   "outputs": [
    {
     "data": {
      "text/plain": [
       "0    3806.296359\n",
       "1    2662.195541\n",
       "2    1979.243229\n",
       "3    2467.201242\n",
       "4    6360.675421\n",
       "dtype: float64"
      ]
     },
     "execution_count": 37,
     "metadata": {},
     "output_type": "execute_result"
    }
   ],
   "source": [
    "game_mean = numeric_columns.apply(np.mean, axis=1)\n",
    "game_mean.head(5)"
   ]
  },
  {
   "cell_type": "code",
   "execution_count": 38,
   "metadata": {
    "collapsed": false
   },
   "outputs": [
    {
     "data": {
      "text/plain": [
       "0     7450.209585\n",
       "1     4933.084135\n",
       "2     3514.218155\n",
       "3     4367.915199\n",
       "4    13321.625345\n",
       "dtype: float64"
      ]
     },
     "execution_count": 38,
     "metadata": {},
     "output_type": "execute_result"
    }
   ],
   "source": [
    "game_std = numeric_columns.apply(np.std, axis =1)\n",
    "game_std.head(5)"
   ]
  },
  {
   "cell_type": "code",
   "execution_count": 40,
   "metadata": {
    "collapsed": false
   },
   "outputs": [
    {
     "data": {
      "image/png": "[encoded data removed]",
      "text/plain": [
       "<matplotlib.figure.Figure at 0x7f52d2df3390>"
      ]
     },
     "metadata": {},
     "output_type": "display_data"
    }
   ],
   "source": [
    "plt.scatter(game_mean, game_std, c = labels)\n",
    "plt.show()"
   ]
  },
  {
   "cell_type": "markdown",
   "metadata": {},
   "source": [
    "It looks like most of the games are similar, but as the game attributes tend to increase in value (such as number of users who rated), there are fewer high quality games. So most games don't get played much, but a few get a lot of players.\n"
   ]
  },
  {
   "cell_type": "markdown",
   "metadata": {},
   "source": [
    "# Finding Correlations\n",
    "\n",
    "Finding correlations let us compare predictive power and remove columns that don't add to the predictive power and to prevent overfitting."
   ]
  },
  {
   "cell_type": "code",
   "execution_count": 43,
   "metadata": {
    "collapsed": false
   },
   "outputs": [
    {
     "data": {
      "text/html": [
       "<div>\n",
       "<table border=\"1\" class=\"dataframe\">\n",
       "  <thead>\n",
       "    <tr style=\"text-align: right;\">\n",
       "      <th></th>\n",
       "      <th>yearpublished</th>\n",
       "      <th>minplayers</th>\n",
       "      <th>maxplayers</th>\n",
       "      <th>playingtime</th>\n",
       "      <th>minplaytime</th>\n",
       "      <th>maxplaytime</th>\n",
       "      <th>minage</th>\n",
       "      <th>users_rated</th>\n",
       "      <th>average_rating</th>\n",
       "      <th>bayes_average_rating</th>\n",
       "      <th>total_owners</th>\n",
       "      <th>total_traders</th>\n",
       "      <th>total_wanters</th>\n",
       "      <th>total_wishers</th>\n",
       "      <th>total_comments</th>\n",
       "      <th>total_weights</th>\n",
       "      <th>average_weight</th>\n",
       "    </tr>\n",
       "  </thead>\n",
       "  <tbody>\n",
       "    <tr>\n",
       "      <th>yearpublished</th>\n",
       "      <td>1.000000</td>\n",
       "      <td>0.004308</td>\n",
       "      <td>0.004977</td>\n",
       "      <td>0.006235</td>\n",
       "      <td>0.005245</td>\n",
       "      <td>0.006235</td>\n",
       "      <td>0.125281</td>\n",
       "      <td>0.037454</td>\n",
       "      <td>0.108461</td>\n",
       "      <td>0.140998</td>\n",
       "      <td>0.047740</td>\n",
       "      <td>0.064403</td>\n",
       "      <td>0.062289</td>\n",
       "      <td>0.052534</td>\n",
       "      <td>0.043818</td>\n",
       "      <td>0.036226</td>\n",
       "      <td>0.125318</td>\n",
       "    </tr>\n",
       "    <tr>\n",
       "      <th>minplayers</th>\n",
       "      <td>0.004308</td>\n",
       "      <td>1.000000</td>\n",
       "      <td>0.037155</td>\n",
       "      <td>0.024320</td>\n",
       "      <td>0.026569</td>\n",
       "      <td>0.024320</td>\n",
       "      <td>0.110886</td>\n",
       "      <td>0.020364</td>\n",
       "      <td>-0.032701</td>\n",
       "      <td>0.034915</td>\n",
       "      <td>0.014594</td>\n",
       "      <td>0.024708</td>\n",
       "      <td>-0.008654</td>\n",
       "      <td>-0.003786</td>\n",
       "      <td>0.023033</td>\n",
       "      <td>0.019061</td>\n",
       "      <td>-0.021892</td>\n",
       "    </tr>\n",
       "    <tr>\n",
       "      <th>maxplayers</th>\n",
       "      <td>0.004977</td>\n",
       "      <td>0.037155</td>\n",
       "      <td>1.000000</td>\n",
       "      <td>-0.001020</td>\n",
       "      <td>-0.000950</td>\n",
       "      <td>-0.001020</td>\n",
       "      <td>0.004508</td>\n",
       "      <td>-0.000858</td>\n",
       "      <td>-0.008335</td>\n",
       "      <td>-0.003437</td>\n",
       "      <td>-0.000977</td>\n",
       "      <td>-0.002381</td>\n",
       "      <td>-0.003585</td>\n",
       "      <td>-0.002499</td>\n",
       "      <td>-0.001502</td>\n",
       "      <td>-0.001457</td>\n",
       "      <td>-0.013448</td>\n",
       "    </tr>\n",
       "    <tr>\n",
       "      <th>playingtime</th>\n",
       "      <td>0.006235</td>\n",
       "      <td>0.024320</td>\n",
       "      <td>-0.001020</td>\n",
       "      <td>1.000000</td>\n",
       "      <td>0.967909</td>\n",
       "      <td>1.000000</td>\n",
       "      <td>0.053471</td>\n",
       "      <td>0.010908</td>\n",
       "      <td>0.048994</td>\n",
       "      <td>0.045341</td>\n",
       "      <td>0.014532</td>\n",
       "      <td>0.019264</td>\n",
       "      <td>0.024289</td>\n",
       "      <td>0.020296</td>\n",
       "      <td>0.016890</td>\n",
       "      <td>0.017789</td>\n",
       "      <td>0.090895</td>\n",
       "    </tr>\n",
       "    <tr>\n",
       "      <th>minplaytime</th>\n",
       "      <td>0.005245</td>\n",
       "      <td>0.026569</td>\n",
       "      <td>-0.000950</td>\n",
       "      <td>0.967909</td>\n",
       "      <td>1.000000</td>\n",
       "      <td>0.967909</td>\n",
       "      <td>0.052454</td>\n",
       "      <td>0.005502</td>\n",
       "      <td>0.043985</td>\n",
       "      <td>0.041845</td>\n",
       "      <td>0.008975</td>\n",
       "      <td>0.014484</td>\n",
       "      <td>0.017491</td>\n",
       "      <td>0.012737</td>\n",
       "      <td>0.010046</td>\n",
       "      <td>0.010172</td>\n",
       "      <td>0.084405</td>\n",
       "    </tr>\n",
       "    <tr>\n",
       "      <th>maxplaytime</th>\n",
       "      <td>0.006235</td>\n",
       "      <td>0.024320</td>\n",
       "      <td>-0.001020</td>\n",
       "      <td>1.000000</td>\n",
       "      <td>0.967909</td>\n",
       "      <td>1.000000</td>\n",
       "      <td>0.053471</td>\n",
       "      <td>0.010908</td>\n",
       "      <td>0.048994</td>\n",
       "      <td>0.045341</td>\n",
       "      <td>0.014532</td>\n",
       "      <td>0.019264</td>\n",
       "      <td>0.024289</td>\n",
       "      <td>0.020296</td>\n",
       "      <td>0.016890</td>\n",
       "      <td>0.017789</td>\n",
       "      <td>0.090895</td>\n",
       "    </tr>\n",
       "    <tr>\n",
       "      <th>minage</th>\n",
       "      <td>0.125281</td>\n",
       "      <td>0.110886</td>\n",
       "      <td>0.004508</td>\n",
       "      <td>0.053471</td>\n",
       "      <td>0.052454</td>\n",
       "      <td>0.053471</td>\n",
       "      <td>1.000000</td>\n",
       "      <td>0.097885</td>\n",
       "      <td>0.210049</td>\n",
       "      <td>0.266937</td>\n",
       "      <td>0.118564</td>\n",
       "      <td>0.152313</td>\n",
       "      <td>0.154097</td>\n",
       "      <td>0.137476</td>\n",
       "      <td>0.113395</td>\n",
       "      <td>0.097084</td>\n",
       "      <td>0.259782</td>\n",
       "    </tr>\n",
       "    <tr>\n",
       "      <th>users_rated</th>\n",
       "      <td>0.037454</td>\n",
       "      <td>0.020364</td>\n",
       "      <td>-0.000858</td>\n",
       "      <td>0.010908</td>\n",
       "      <td>0.005502</td>\n",
       "      <td>0.010908</td>\n",
       "      <td>0.097885</td>\n",
       "      <td>1.000000</td>\n",
       "      <td>0.112564</td>\n",
       "      <td>0.317992</td>\n",
       "      <td>0.977664</td>\n",
       "      <td>0.807873</td>\n",
       "      <td>0.702433</td>\n",
       "      <td>0.805116</td>\n",
       "      <td>0.978708</td>\n",
       "      <td>0.975723</td>\n",
       "      <td>0.150597</td>\n",
       "    </tr>\n",
       "    <tr>\n",
       "      <th>average_rating</th>\n",
       "      <td>0.108461</td>\n",
       "      <td>-0.032701</td>\n",
       "      <td>-0.008335</td>\n",
       "      <td>0.048994</td>\n",
       "      <td>0.043985</td>\n",
       "      <td>0.048994</td>\n",
       "      <td>0.210049</td>\n",
       "      <td>0.112564</td>\n",
       "      <td>1.000000</td>\n",
       "      <td>0.231563</td>\n",
       "      <td>0.137478</td>\n",
       "      <td>0.119452</td>\n",
       "      <td>0.196566</td>\n",
       "      <td>0.171375</td>\n",
       "      <td>0.123714</td>\n",
       "      <td>0.109691</td>\n",
       "      <td>0.351081</td>\n",
       "    </tr>\n",
       "    <tr>\n",
       "      <th>bayes_average_rating</th>\n",
       "      <td>0.140998</td>\n",
       "      <td>0.034915</td>\n",
       "      <td>-0.003437</td>\n",
       "      <td>0.045341</td>\n",
       "      <td>0.041845</td>\n",
       "      <td>0.045341</td>\n",
       "      <td>0.266937</td>\n",
       "      <td>0.317992</td>\n",
       "      <td>0.231563</td>\n",
       "      <td>1.000000</td>\n",
       "      <td>0.371017</td>\n",
       "      <td>0.455021</td>\n",
       "      <td>0.426708</td>\n",
       "      <td>0.377213</td>\n",
       "      <td>0.371031</td>\n",
       "      <td>0.313302</td>\n",
       "      <td>0.482356</td>\n",
       "    </tr>\n",
       "    <tr>\n",
       "      <th>total_owners</th>\n",
       "      <td>0.047740</td>\n",
       "      <td>0.014594</td>\n",
       "      <td>-0.000977</td>\n",
       "      <td>0.014532</td>\n",
       "      <td>0.008975</td>\n",
       "      <td>0.014532</td>\n",
       "      <td>0.118564</td>\n",
       "      <td>0.977664</td>\n",
       "      <td>0.137478</td>\n",
       "      <td>0.371017</td>\n",
       "      <td>1.000000</td>\n",
       "      <td>0.829875</td>\n",
       "      <td>0.688380</td>\n",
       "      <td>0.788820</td>\n",
       "      <td>0.954026</td>\n",
       "      <td>0.938422</td>\n",
       "      <td>0.183341</td>\n",
       "    </tr>\n",
       "    <tr>\n",
       "      <th>total_traders</th>\n",
       "      <td>0.064403</td>\n",
       "      <td>0.024708</td>\n",
       "      <td>-0.002381</td>\n",
       "      <td>0.019264</td>\n",
       "      <td>0.014484</td>\n",
       "      <td>0.019264</td>\n",
       "      <td>0.152313</td>\n",
       "      <td>0.807873</td>\n",
       "      <td>0.119452</td>\n",
       "      <td>0.455021</td>\n",
       "      <td>0.829875</td>\n",
       "      <td>1.000000</td>\n",
       "      <td>0.555836</td>\n",
       "      <td>0.631443</td>\n",
       "      <td>0.856526</td>\n",
       "      <td>0.801559</td>\n",
       "      <td>0.227302</td>\n",
       "    </tr>\n",
       "    <tr>\n",
       "      <th>total_wanters</th>\n",
       "      <td>0.062289</td>\n",
       "      <td>-0.008654</td>\n",
       "      <td>-0.003585</td>\n",
       "      <td>0.024289</td>\n",
       "      <td>0.017491</td>\n",
       "      <td>0.024289</td>\n",
       "      <td>0.154097</td>\n",
       "      <td>0.702433</td>\n",
       "      <td>0.196566</td>\n",
       "      <td>0.426708</td>\n",
       "      <td>0.688380</td>\n",
       "      <td>0.555836</td>\n",
       "      <td>1.000000</td>\n",
       "      <td>0.961002</td>\n",
       "      <td>0.709645</td>\n",
       "      <td>0.667608</td>\n",
       "      <td>0.254229</td>\n",
       "    </tr>\n",
       "    <tr>\n",
       "      <th>total_wishers</th>\n",
       "      <td>0.052534</td>\n",
       "      <td>-0.003786</td>\n",
       "      <td>-0.002499</td>\n",
       "      <td>0.020296</td>\n",
       "      <td>0.012737</td>\n",
       "      <td>0.020296</td>\n",
       "      <td>0.137476</td>\n",
       "      <td>0.805116</td>\n",
       "      <td>0.171375</td>\n",
       "      <td>0.377213</td>\n",
       "      <td>0.788820</td>\n",
       "      <td>0.631443</td>\n",
       "      <td>0.961002</td>\n",
       "      <td>1.000000</td>\n",
       "      <td>0.788538</td>\n",
       "      <td>0.764677</td>\n",
       "      <td>0.219025</td>\n",
       "    </tr>\n",
       "    <tr>\n",
       "      <th>total_comments</th>\n",
       "      <td>0.043818</td>\n",
       "      <td>0.023033</td>\n",
       "      <td>-0.001502</td>\n",
       "      <td>0.016890</td>\n",
       "      <td>0.010046</td>\n",
       "      <td>0.016890</td>\n",
       "      <td>0.113395</td>\n",
       "      <td>0.978708</td>\n",
       "      <td>0.123714</td>\n",
       "      <td>0.371031</td>\n",
       "      <td>0.954026</td>\n",
       "      <td>0.856526</td>\n",
       "      <td>0.709645</td>\n",
       "      <td>0.788538</td>\n",
       "      <td>1.000000</td>\n",
       "      <td>0.978213</td>\n",
       "      <td>0.180939</td>\n",
       "    </tr>\n",
       "    <tr>\n",
       "      <th>total_weights</th>\n",
       "      <td>0.036226</td>\n",
       "      <td>0.019061</td>\n",
       "      <td>-0.001457</td>\n",
       "      <td>0.017789</td>\n",
       "      <td>0.010172</td>\n",
       "      <td>0.017789</td>\n",
       "      <td>0.097084</td>\n",
       "      <td>0.975723</td>\n",
       "      <td>0.109691</td>\n",
       "      <td>0.313302</td>\n",
       "      <td>0.938422</td>\n",
       "      <td>0.801559</td>\n",
       "      <td>0.667608</td>\n",
       "      <td>0.764677</td>\n",
       "      <td>0.978213</td>\n",
       "      <td>1.000000</td>\n",
       "      <td>0.161004</td>\n",
       "    </tr>\n",
       "    <tr>\n",
       "      <th>average_weight</th>\n",
       "      <td>0.125318</td>\n",
       "      <td>-0.021892</td>\n",
       "      <td>-0.013448</td>\n",
       "      <td>0.090895</td>\n",
       "      <td>0.084405</td>\n",
       "      <td>0.090895</td>\n",
       "      <td>0.259782</td>\n",
       "      <td>0.150597</td>\n",
       "      <td>0.351081</td>\n",
       "      <td>0.482356</td>\n",
       "      <td>0.183341</td>\n",
       "      <td>0.227302</td>\n",
       "      <td>0.254229</td>\n",
       "      <td>0.219025</td>\n",
       "      <td>0.180939</td>\n",
       "      <td>0.161004</td>\n",
       "      <td>1.000000</td>\n",
       "    </tr>\n",
       "  </tbody>\n",
       "</table>\n",
       "</div>"
      ],
      "text/plain": [
       "                      yearpublished  minplayers  maxplayers  playingtime  \\\n",
       "yearpublished              1.000000    0.004308    0.004977     0.006235   \n",
       "minplayers                 0.004308    1.000000    0.037155     0.024320   \n",
       "maxplayers                 0.004977    0.037155    1.000000    -0.001020   \n",
       "playingtime                0.006235    0.024320   -0.001020     1.000000   \n",
       "minplaytime                0.005245    0.026569   -0.000950     0.967909   \n",
       "maxplaytime                0.006235    0.024320   -0.001020     1.000000   \n",
       "minage                     0.125281    0.110886    0.004508     0.053471   \n",
       "users_rated                0.037454    0.020364   -0.000858     0.010908   \n",
       "average_rating             0.108461   -0.032701   -0.008335     0.048994   \n",
       "bayes_average_rating       0.140998    0.034915   -0.003437     0.045341   \n",
       "total_owners               0.047740    0.014594   -0.000977     0.014532   \n",
       "total_traders              0.064403    0.024708   -0.002381     0.019264   \n",
       "total_wanters              0.062289   -0.008654   -0.003585     0.024289   \n",
       "total_wishers              0.052534   -0.003786   -0.002499     0.020296   \n",
       "total_comments             0.043818    0.023033   -0.001502     0.016890   \n",
       "total_weights              0.036226    0.019061   -0.001457     0.017789   \n",
       "average_weight             0.125318   -0.021892   -0.013448     0.090895   \n",
       "\n",
       "                      minplaytime  maxplaytime    minage  users_rated  \\\n",
       "yearpublished            0.005245     0.006235  0.125281     0.037454   \n",
       "minplayers               0.026569     0.024320  0.110886     0.020364   \n",
       "maxplayers              -0.000950    -0.001020  0.004508    -0.000858   \n",
       "playingtime              0.967909     1.000000  0.053471     0.010908   \n",
       "minplaytime              1.000000     0.967909  0.052454     0.005502   \n",
       "maxplaytime              0.967909     1.000000  0.053471     0.010908   \n",
       "minage                   0.052454     0.053471  1.000000     0.097885   \n",
       "users_rated              0.005502     0.010908  0.097885     1.000000   \n",
       "average_rating           0.043985     0.048994  0.210049     0.112564   \n",
       "bayes_average_rating     0.041845     0.045341  0.266937     0.317992   \n",
       "total_owners             0.008975     0.014532  0.118564     0.977664   \n",
       "total_traders            0.014484     0.019264  0.152313     0.807873   \n",
       "total_wanters            0.017491     0.024289  0.154097     0.702433   \n",
       "total_wishers            0.012737     0.020296  0.137476     0.805116   \n",
       "total_comments           0.010046     0.016890  0.113395     0.978708   \n",
       "total_weights            0.010172     0.017789  0.097084     0.975723   \n",
       "average_weight           0.084405     0.090895  0.259782     0.150597   \n",
       "\n",
       "                      average_rating  bayes_average_rating  total_owners  \\\n",
       "yearpublished               0.108461              0.140998      0.047740   \n",
       "minplayers                 -0.032701              0.034915      0.014594   \n",
       "maxplayers                 -0.008335             -0.003437     -0.000977   \n",
       "playingtime                 0.048994              0.045341      0.014532   \n",
       "minplaytime                 0.043985              0.041845      0.008975   \n",
       "maxplaytime                 0.048994              0.045341      0.014532   \n",
       "minage                      0.210049              0.266937      0.118564   \n",
       "users_rated                 0.112564              0.317992      0.977664   \n",
       "average_rating              1.000000              0.231563      0.137478   \n",
       "bayes_average_rating        0.231563              1.000000      0.371017   \n",
       "total_owners                0.137478              0.371017      1.000000   \n",
       "total_traders               0.119452              0.455021      0.829875   \n",
       "total_wanters               0.196566              0.426708      0.688380   \n",
       "total_wishers               0.171375              0.377213      0.788820   \n",
       "total_comments              0.123714              0.371031      0.954026   \n",
       "total_weights               0.109691              0.313302      0.938422   \n",
       "average_weight              0.351081              0.482356      0.183341   \n",
       "\n",
       "                      total_traders  total_wanters  total_wishers  \\\n",
       "yearpublished              0.064403       0.062289       0.052534   \n",
       "minplayers                 0.024708      -0.008654      -0.003786   \n",
       "maxplayers                -0.002381      -0.003585      -0.002499   \n",
       "playingtime                0.019264       0.024289       0.020296   \n",
       "minplaytime                0.014484       0.017491       0.012737   \n",
       "maxplaytime                0.019264       0.024289       0.020296   \n",
       "minage                     0.152313       0.154097       0.137476   \n",
       "users_rated                0.807873       0.702433       0.805116   \n",
       "average_rating             0.119452       0.196566       0.171375   \n",
       "bayes_average_rating       0.455021       0.426708       0.377213   \n",
       "total_owners               0.829875       0.688380       0.788820   \n",
       "total_traders              1.000000       0.555836       0.631443   \n",
       "total_wanters              0.555836       1.000000       0.961002   \n",
       "total_wishers              0.631443       0.961002       1.000000   \n",
       "total_comments             0.856526       0.709645       0.788538   \n",
       "total_weights              0.801559       0.667608       0.764677   \n",
       "average_weight             0.227302       0.254229       0.219025   \n",
       "\n",
       "                      total_comments  total_weights  average_weight  \n",
       "yearpublished               0.043818       0.036226        0.125318  \n",
       "minplayers                  0.023033       0.019061       -0.021892  \n",
       "maxplayers                 -0.001502      -0.001457       -0.013448  \n",
       "playingtime                 0.016890       0.017789        0.090895  \n",
       "minplaytime                 0.010046       0.010172        0.084405  \n",
       "maxplaytime                 0.016890       0.017789        0.090895  \n",
       "minage                      0.113395       0.097084        0.259782  \n",
       "users_rated                 0.978708       0.975723        0.150597  \n",
       "average_rating              0.123714       0.109691        0.351081  \n",
       "bayes_average_rating        0.371031       0.313302        0.482356  \n",
       "total_owners                0.954026       0.938422        0.183341  \n",
       "total_traders               0.856526       0.801559        0.227302  \n",
       "total_wanters               0.709645       0.667608        0.254229  \n",
       "total_wishers               0.788538       0.764677        0.219025  \n",
       "total_comments              1.000000       0.978213        0.180939  \n",
       "total_weights               0.978213       1.000000        0.161004  \n",
       "average_weight              0.180939       0.161004        1.000000  "
      ]
     },
     "execution_count": 43,
     "metadata": {},
     "output_type": "execute_result"
    }
   ],
   "source": [
    "correlations = numeric_columns.corr()\n",
    "correlations"
   ]
  },
  {
   "cell_type": "code",
   "execution_count": 44,
   "metadata": {
    "collapsed": false
   },
   "outputs": [
    {
     "data": {
      "text/plain": [
       "yearpublished           0.108461\n",
       "minplayers             -0.032701\n",
       "maxplayers             -0.008335\n",
       "playingtime             0.048994\n",
       "minplaytime             0.043985\n",
       "maxplaytime             0.048994\n",
       "minage                  0.210049\n",
       "users_rated             0.112564\n",
       "average_rating          1.000000\n",
       "bayes_average_rating    0.231563\n",
       "total_owners            0.137478\n",
       "total_traders           0.119452\n",
       "total_wanters           0.196566\n",
       "total_wishers           0.171375\n",
       "total_comments          0.123714\n",
       "total_weights           0.109691\n",
       "average_weight          0.351081\n",
       "Name: average_rating, dtype: float64"
      ]
     },
     "execution_count": 44,
     "metadata": {},
     "output_type": "execute_result"
    }
   ],
   "source": [
    "correlations[\"average_rating\"]"
   ]
  },
  {
   "cell_type": "markdown",
   "metadata": {},
   "source": [
    "The yearpublished column is surprisingly highly correlated with average_rating, showing that more recent games tend to be rated more highly. Games for older players (minage is high) tend to be more highly rated. The more \"weighty\" a game is (average_weight is high), the more highly it tends to be rated."
   ]
  },
  {
   "cell_type": "code",
   "execution_count": 46,
   "metadata": {
    "collapsed": false
   },
   "outputs": [],
   "source": [
    "cols = list(numeric_columns.columns)\n",
    "cols.remove(\"average_rating\")\n",
    "cols.remove(\"bayes_average_rating\")"
   ]
  },
  {
   "cell_type": "markdown",
   "metadata": {},
   "source": [
    "# Fitting a Linear Regression Model"
   ]
  },
  {
   "cell_type": "code",
   "execution_count": 50,
   "metadata": {
    "collapsed": false
   },
   "outputs": [
    {
     "data": {
      "text/plain": [
       "LinearRegression(copy_X=True, fit_intercept=True, n_jobs=1, normalize=False)"
      ]
     },
     "execution_count": 50,
     "metadata": {},
     "output_type": "execute_result"
    }
   ],
   "source": [
    "from sklearn.linear_model import LinearRegression\n",
    "\n",
    "reg = LinearRegression()\n",
    "reg.fit(board_games[cols], board_games[\"average_rating\"])"
   ]
  },
  {
   "cell_type": "code",
   "execution_count": 51,
   "metadata": {
    "collapsed": true
   },
   "outputs": [],
   "source": [
    "predictions = reg.predict(board_games[cols])"
   ]
  },
  {
   "cell_type": "code",
   "execution_count": 53,
   "metadata": {
    "collapsed": false
   },
   "outputs": [
    {
     "data": {
      "text/plain": [
       "2.0933969758339361"
      ]
     },
     "execution_count": 53,
     "metadata": {},
     "output_type": "execute_result"
    }
   ],
   "source": [
    "#Calculating MSE\n",
    "\n",
    "np.mean((predictions - board_games[\"average_rating\"])**2)"
   ]
  },
  {
   "cell_type": "markdown",
   "metadata": {},
   "source": [
    "The error rate is close to the standard deviation of all board game ratings. This indicates that our model may not have high predictive power. We'll need to dig more into which games were scored well, and which ones weren't."
   ]
  },
  {
   "cell_type": "code",
   "execution_count": 57,
   "metadata": {
    "collapsed": false
   },
   "outputs": [
    {
     "data": {
      "image/png": "[encoded data removed]",
      "text/plain": [
       "<matplotlib.figure.Figure at 0x7f52dea4a048>"
      ]
     },
     "metadata": {},
     "output_type": "display_data"
    }
   ],
   "source": [
    "plt.hist(predictions - board_games[\"average_rating\"])\n",
    "plt.show()"
   ]
  },
  {
   "cell_type": "code",
   "execution_count": null,
   "metadata": {
    "collapsed": true
   },
   "outputs": [],
   "source": []
  }
 ],
 "metadata": {
  "kernelspec": {
   "display_name": "Python 3",
   "language": "python",
   "name": "python3"
  },
  "language_info": {
   "codemirror_mode": {
    "name": "ipython",
    "version": 3
   },
   "file_extension": ".py",
   "mimetype": "text/x-python",
   "name": "python",
   "nbconvert_exporter": "python",
   "pygments_lexer": "ipython3",
   "version": "3.4.3"
  }
 },
 "nbformat": 4,
 "nbformat_minor": 0
}
